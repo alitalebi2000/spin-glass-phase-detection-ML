{
 "cells": [
  {
   "cell_type": "code",
   "execution_count": 1,
   "id": "39ecb313",
   "metadata": {},
   "outputs": [],
   "source": [
    "import numpy as np\n",
    "import matplotlib.pyplot as plt\n",
    "import random\n",
    "from numba import njit\n",
    "from sklearn.cluster import KMeans"
   ]
  },
  {
   "cell_type": "code",
   "execution_count": 2,
   "id": "f7b3b4d9",
   "metadata": {},
   "outputs": [
    {
     "name": "stdout",
     "output_type": "stream",
     "text": [
      "Wall time: 35 s\n"
     ]
    }
   ],
   "source": [
    "%%time\n",
    "N=1024\n",
    "var_J=1\n",
    "\n",
    "@njit\n",
    "def initial_lattice(N):\n",
    "    M=np.ones((N))\n",
    "    l=np.array([1,-1])\n",
    "    for i in range(N):\n",
    "            M[i]=np.random.choice(l)\n",
    "    return(M)\n",
    "\n",
    "@njit\n",
    "def intraction(N,mean_J,var_J):\n",
    "    J_matrix=np.zeros((N,N))\n",
    "    for i in range(N):\n",
    "        for j in range(N):\n",
    "            if i<j :\n",
    "                J_matrix[i][j]=random.gauss(mean_J/N,var_J/np.sqrt(N))\n",
    "            else :\n",
    "                J_matrix[i][j]=0\n",
    "    J_matrix=J_matrix+np.transpose(J_matrix)  \n",
    "    return(J_matrix)\n",
    "\n",
    "@njit\n",
    "def energy_local(M,J_matrix,i):\n",
    "    H=np.sum(-J_matrix[i]*M[i]*M)\n",
    "    return(H)\n",
    "\n",
    "@njit\n",
    "def energy_total(M,J_matrix,N):\n",
    "    E_t=0\n",
    "    for i in range(N):\n",
    "        E_t=E_t+energy_local(M,J_matrix,i)\n",
    "    E_t=E_t/2\n",
    "    return(E_t)\n",
    "\n",
    "\n",
    "@njit\n",
    "def trial(J_matrix,N,T): \n",
    "    field_list=np.zeros(N)\n",
    "    M=initial_lattice(N)\n",
    "    E_t=energy_total(M,J_matrix,N)\n",
    "    for trial in range(int(np.sqrt(N**3))):\n",
    "        random_i=random.randrange(N)                \n",
    "        M[random_i]=M[random_i]*(-1)\n",
    "        delta_E=2*energy_local(M,J_matrix,random_i)\n",
    "        if delta_E>0:\n",
    "            p=np.exp(-delta_E/T)\n",
    "            coin=random.random()\n",
    "            if coin>p :\n",
    "                M[random_i]=M[random_i]*(-1)\n",
    "            else :\n",
    "                E_t=E_t+delta_E\n",
    "        else :\n",
    "            E_t=E_t+delta_E\n",
    "    \n",
    "    for i in range(N):\n",
    "        field=np.sum(-J_matrix[i]*M)\n",
    "        field_list[i]=field\n",
    "\n",
    "    return(field_list)\n",
    "\n",
    "l_feature=[]\n",
    "#Spin glass\n",
    "l_feature=[]\n",
    "for mean_J in np.arange(0.000001,0.010001,0.001):\n",
    "    for T in np.arange(0.000001,0.010001,0.001):\n",
    "        l=[]\n",
    "        J_matrix=intraction(N,mean_J,var_J)\n",
    "        field_time_series=trial(J_matrix,N,T)\n",
    "        l.append(abs(np.mean(field_time_series)))\n",
    "        l.append(np.var(field_time_series))\n",
    "        l_feature.append(l)\n",
    "        \n",
    "#Paramagnetic       \n",
    "for mean_J in np.arange(0.000001,0.010001,0.001):\n",
    "    for T in np.arange(1000,1000.01,0.001):\n",
    "        l=[]\n",
    "        J_matrix=intraction(N,mean_J,var_J)\n",
    "        field_time_series=trial(J_matrix,N,T)\n",
    "        l.append(abs(np.mean(field_time_series)))\n",
    "        l.append(np.var(field_time_series))\n",
    "        l_feature.append(l)\n",
    "\n",
    "#Ferromagnetic       \n",
    "for mean_J in np.arange(1000,1000.01,0.001):\n",
    "    for T in np.arange(0.000001,0.010001,0.001):\n",
    "        l=[]\n",
    "        J_matrix=intraction(N,mean_J,var_J)\n",
    "        field_time_series=trial(J_matrix,N,T)\n",
    "        l.append(abs(np.mean(field_time_series))/mean_J)\n",
    "        l.append(np.var(field_time_series))\n",
    "        l_feature.append(l)\n",
    "\n",
    "X = np.array(l_feature)\n",
    "kmeans = KMeans(n_clusters=3)\n",
    "kmeans.fit(X)\n",
    "centroids = kmeans.cluster_centers_\n",
    "labels = kmeans.labels_"
   ]
  },
  {
   "cell_type": "code",
   "execution_count": 3,
   "id": "1e1262a6",
   "metadata": {},
   "outputs": [
    {
     "name": "stdout",
     "output_type": "stream",
     "text": [
      "Wall time: 42min 25s\n"
     ]
    }
   ],
   "source": [
    "%%time\n",
    "\n",
    "def calculate_similarity(point, centroids):\n",
    "    similarities = []\n",
    "    for centroid in centroids:\n",
    "        distance = np.linalg.norm(point - centroid)\n",
    "        # Similarity as the inverse of distance\n",
    "        similarity = 0.0001 / (0.0001 + distance)\n",
    "        similarities.append(similarity)\n",
    "    return similarities\n",
    "\n",
    "\n",
    "point_list=[]\n",
    "for mean_J in np.arange(0.000001,3,0.1):\n",
    "    l=[] \n",
    "    for T in np.arange(0.000001,3,0.1):\n",
    "        var_J=1\n",
    "        mean_percentage_similarity=np.zeros((1,3))\n",
    "        for i in range(20):\n",
    "            J_matrix=intraction(N,mean_J,var_J)\n",
    "            field_time_series=trial(J_matrix,N,T)\n",
    "            if abs(np.mean(field_time_series))>1 :\n",
    "                new_point = np.array([abs(np.mean(field_time_series))/mean_J, np.var(field_time_series)])  # New point\n",
    "            else :\n",
    "                new_point = np.array([abs(np.mean(field_time_series)), np.var(field_time_series)])  # New point\n",
    "\n",
    "            # Similarity between the new point and each cluster centroid\n",
    "            similarities = calculate_similarity(new_point, centroids)\n",
    "\n",
    "            total_similarity = sum(similarities)\n",
    "            percentage_similarity = [similarity / total_similarity for similarity in similarities]\n",
    "            mean_percentage_similarity=mean_percentage_similarity+np.array(percentage_similarity)\n",
    "\n",
    "        mean_percentage_similarity=(mean_percentage_similarity)/(20)\n",
    "        l.append(mean_percentage_similarity[0])\n",
    "    point_list.append(l)"
   ]
  },
  {
   "cell_type": "code",
   "execution_count": 4,
   "id": "f792c8aa",
   "metadata": {},
   "outputs": [
    {
     "data": {
      "image/png": "[encoded data removed]",
      "text/plain": [
       "<Figure size 800x800 with 1 Axes>"
      ]
     },
     "metadata": {},
     "output_type": "display_data"
    }
   ],
   "source": [
    "from scipy.ndimage import rotate\n",
    "plt.rcParams['text.usetex'] = True\n",
    "plt.figure(figsize=(8,8))\n",
    "rotated_array = rotate(point_list, 90, reshape=True)\n",
    "plt.imshow(rotated_array)\n",
    "ax = plt.gca()\n",
    "ax.set_xticks(np.arange(-0.5, 30, 5))\n",
    "ax.set_yticks(np.arange(-0.5, 30, 5))\n",
    "ax.set_xticklabels([0,0.5,1,1.5,2,2.5,3])\n",
    "ax.set_yticklabels([3,2.5,2,1.5,1,0.5,0])\n",
    "\n",
    "ax.set_xlabel('\\\\textit{$J_0/J$}',fontsize=18)\n",
    "ax.set_ylabel('\\\\textit{$T/J$}',fontsize=18)\n",
    "plt.savefig(\"phase-diagram1.png\")"
   ]
  }
 ],
 "metadata": {
  "kernelspec": {
   "display_name": "Python 3 (ipykernel)",
   "language": "python",
   "name": "python3"
  },
  "language_info": {
   "codemirror_mode": {
    "name": "ipython",
    "version": 3
   },
   "file_extension": ".py",
   "mimetype": "text/x-python",
   "name": "python",
   "nbconvert_exporter": "python",
   "pygments_lexer": "ipython3",
   "version": "3.9.13"
  }
 },
 "nbformat": 4,
 "nbformat_minor": 5
}
